{
 "cells": [
  {
   "cell_type": "markdown",
   "metadata": {},
   "source": [
    "<center><h2>Sentence Clustering<h2><center>\n",
    "The aim of this notebook is to perform sentence clustering using TD-IDF vectorization and kmeans clustering."
   ]
  },
  {
   "cell_type": "markdown",
   "metadata": {},
   "source": [
    "## Import libraries"
   ]
  },
  {
   "cell_type": "code",
   "execution_count": 81,
   "metadata": {},
   "outputs": [],
   "source": [
    "import nltk\n",
    "import pandas as pd\n",
    "import matplotlib.pyplot as plt\n",
    "import seaborn as sns\n",
    "\n",
    "import pandas as pd\n",
    "import numpy as np\n",
    "import re\n",
    "import string\n",
    "import nltk\n",
    "from nltk.util import ngrams\n",
    "import en_core_web_sm\n",
    "from nltk.corpus import words\n",
    "import warnings\n",
    "from matplotlib import pyplot\n",
    "import numpy as np\n",
    "import codecs\n",
    "import unidecode\n",
    "import re\n",
    "import spacy\n",
    "import collections\n",
    "from nltk import word_tokenize\n",
    "from nltk.corpus import stopwords\n",
    "from nltk.stem import PorterStemmer\n",
    "from sklearn.cluster import KMeans\n",
    "from sklearn.feature_extraction.text import TfidfVectorizer, CountVectorizer\n",
    "from pprint import pprint\n",
    "\n",
    "nlp = spacy.load('en_core_web_sm')\n",
    "%matplotlib inline\n",
    "\n",
    "warnings.filterwarnings('ignore')\n",
    "\n",
    "model= en_core_web_sm.load()\n",
    "\n",
    "\n",
    "pd.set_option('display.max_colwidth', 100)\n",
    "\n",
    "stopwords = nltk.corpus.stopwords.words('english')\n",
    "\n",
    "# Lemmatizer\n",
    "wn = nltk.WordNetLemmatizer()"
   ]
  },
  {
   "cell_type": "markdown",
   "metadata": {},
   "source": [
    "## Data"
   ]
  },
  {
   "cell_type": "code",
   "execution_count": 82,
   "metadata": {},
   "outputs": [
    {
     "data": {
      "text/html": [
       "<div>\n",
       "<style scoped>\n",
       "    .dataframe tbody tr th:only-of-type {\n",
       "        vertical-align: middle;\n",
       "    }\n",
       "\n",
       "    .dataframe tbody tr th {\n",
       "        vertical-align: top;\n",
       "    }\n",
       "\n",
       "    .dataframe thead th {\n",
       "        text-align: right;\n",
       "    }\n",
       "</style>\n",
       "<table border=\"1\" class=\"dataframe\">\n",
       "  <thead>\n",
       "    <tr style=\"text-align: right;\">\n",
       "      <th></th>\n",
       "      <th>title</th>\n",
       "      <th>location</th>\n",
       "      <th>department</th>\n",
       "      <th>salary_range</th>\n",
       "      <th>company_profile</th>\n",
       "      <th>description</th>\n",
       "      <th>requirements</th>\n",
       "      <th>benefits</th>\n",
       "      <th>telecommuting</th>\n",
       "      <th>has_company_logo</th>\n",
       "      <th>has_questions</th>\n",
       "      <th>employment_type</th>\n",
       "      <th>required_experience</th>\n",
       "      <th>required_education</th>\n",
       "      <th>industry</th>\n",
       "      <th>function</th>\n",
       "      <th>fraudulent</th>\n",
       "      <th>in_balanced_dataset</th>\n",
       "    </tr>\n",
       "  </thead>\n",
       "  <tbody>\n",
       "    <tr>\n",
       "      <th>0</th>\n",
       "      <td>Marketing Intern</td>\n",
       "      <td>US, NY, New York</td>\n",
       "      <td>Marketing</td>\n",
       "      <td>NaN</td>\n",
       "      <td>&lt;h3&gt;We're Food52, and we've created a groundbreaking and award-winning cooking site. We support,...</td>\n",
       "      <td>&lt;p&gt;Food52, a fast-growing, James Beard Award-winning online food community and crowd-sourced and...</td>\n",
       "      <td>&lt;ul&gt;\\r\\n&lt;li&gt;Experience with content management systems a major plus (any blogging counts!)&lt;/li&gt;\\...</td>\n",
       "      <td>NaN</td>\n",
       "      <td>f</td>\n",
       "      <td>t</td>\n",
       "      <td>f</td>\n",
       "      <td>Other</td>\n",
       "      <td>Internship</td>\n",
       "      <td>NaN</td>\n",
       "      <td>NaN</td>\n",
       "      <td>Marketing</td>\n",
       "      <td>f</td>\n",
       "      <td>f</td>\n",
       "    </tr>\n",
       "    <tr>\n",
       "      <th>1</th>\n",
       "      <td>Customer Service - Cloud Video Production</td>\n",
       "      <td>NZ, , Auckland</td>\n",
       "      <td>Success</td>\n",
       "      <td>NaN</td>\n",
       "      <td>&lt;h3&gt;90 Seconds, the worlds Cloud Video Production Service.&lt;/h3&gt;\\r\\n&lt;p&gt;90 Seconds is the worlds C...</td>\n",
       "      <td>&lt;p&gt;Organised - Focused - Vibrant - Awesome!&lt;br&gt;&lt;br&gt;Do you have a passion for customer service? S...</td>\n",
       "      <td>&lt;p&gt;&lt;b&gt;What we expect from you:&lt;/b&gt;&lt;/p&gt;\\r\\n&lt;p&gt;Your key responsibility will be to communicate with...</td>\n",
       "      <td>&lt;h3&gt;&lt;b&gt;What you will get from us&lt;/b&gt;&lt;/h3&gt;\\r\\n&lt;p&gt;Through being part of the 90 Seconds team you wi...</td>\n",
       "      <td>f</td>\n",
       "      <td>t</td>\n",
       "      <td>f</td>\n",
       "      <td>Full-time</td>\n",
       "      <td>Not Applicable</td>\n",
       "      <td>NaN</td>\n",
       "      <td>Marketing and Advertising</td>\n",
       "      <td>Customer Service</td>\n",
       "      <td>f</td>\n",
       "      <td>f</td>\n",
       "    </tr>\n",
       "  </tbody>\n",
       "</table>\n",
       "</div>"
      ],
      "text/plain": [
       "                                       title          location department  \\\n",
       "0                           Marketing Intern  US, NY, New York  Marketing   \n",
       "1  Customer Service - Cloud Video Production    NZ, , Auckland    Success   \n",
       "\n",
       "  salary_range  \\\n",
       "0          NaN   \n",
       "1          NaN   \n",
       "\n",
       "                                                                                       company_profile  \\\n",
       "0  <h3>We're Food52, and we've created a groundbreaking and award-winning cooking site. We support,...   \n",
       "1  <h3>90 Seconds, the worlds Cloud Video Production Service.</h3>\\r\\n<p>90 Seconds is the worlds C...   \n",
       "\n",
       "                                                                                           description  \\\n",
       "0  <p>Food52, a fast-growing, James Beard Award-winning online food community and crowd-sourced and...   \n",
       "1  <p>Organised - Focused - Vibrant - Awesome!<br><br>Do you have a passion for customer service? S...   \n",
       "\n",
       "                                                                                          requirements  \\\n",
       "0  <ul>\\r\\n<li>Experience with content management systems a major plus (any blogging counts!)</li>\\...   \n",
       "1  <p><b>What we expect from you:</b></p>\\r\\n<p>Your key responsibility will be to communicate with...   \n",
       "\n",
       "                                                                                              benefits  \\\n",
       "0                                                                                                  NaN   \n",
       "1  <h3><b>What you will get from us</b></h3>\\r\\n<p>Through being part of the 90 Seconds team you wi...   \n",
       "\n",
       "  telecommuting has_company_logo has_questions employment_type  \\\n",
       "0             f                t             f           Other   \n",
       "1             f                t             f       Full-time   \n",
       "\n",
       "  required_experience required_education                   industry  \\\n",
       "0          Internship                NaN                        NaN   \n",
       "1      Not Applicable                NaN  Marketing and Advertising   \n",
       "\n",
       "           function fraudulent in_balanced_dataset  \n",
       "0         Marketing          f                   f  \n",
       "1  Customer Service          f                   f  "
      ]
     },
     "execution_count": 82,
     "metadata": {},
     "output_type": "execute_result"
    }
   ],
   "source": [
    "data = pd.read_csv('../Data/DataSet.csv')\n",
    "data.head(2)"
   ]
  },
  {
   "cell_type": "code",
   "execution_count": 83,
   "metadata": {},
   "outputs": [
    {
     "name": "stdout",
     "output_type": "stream",
     "text": [
      "Unique locations 3106\n",
      "Unique job titles 11231\n",
      "Unique industries 132\n"
     ]
    }
   ],
   "source": [
    "print(\"Unique locations\", len(data.location.unique()))\n",
    "print(\"Unique job titles\", len(data.title.unique()))\n",
    "print(\"Unique industries\", len(data.industry.unique()))"
   ]
  },
  {
   "cell_type": "markdown",
   "metadata": {},
   "source": [
    "## Data Visualization"
   ]
  },
  {
   "cell_type": "markdown",
   "metadata": {},
   "source": [
    "Visualizing how does the frequency of fraudulent vary across different columns, here the idea was to understand if any column has a good balance of fradulant and legit information"
   ]
  },
  {
   "cell_type": "code",
   "execution_count": 84,
   "metadata": {},
   "outputs": [
    {
     "data": {
      "text/plain": [
       "<matplotlib.legend.Legend at 0x25f9376f208>"
      ]
     },
     "execution_count": 84,
     "metadata": {},
     "output_type": "execute_result"
    },
    {
     "data": {
      "image/png": "[encoded data removed]",
      "text/plain": [
       "<Figure size 432x288 with 1 Axes>"
      ]
     },
     "metadata": {
      "needs_background": "light"
     },
     "output_type": "display_data"
    }
   ],
   "source": [
    "legit = data[data['fraudulent'] == 'f'].groupby([\"fraudulent\"]).agg('count').values.tolist()[0]\n",
    "fraud = data[data['fraudulent'] == 't'].groupby([\"fraudulent\"]).agg('count').values.tolist()[0]\n",
    "\n",
    "ind = np.arange(len(data.columns)-1)\n",
    "\n",
    "width = 0.35  # the width of the bars\n",
    "fig, ax = plt.subplots()\n",
    "rects1 = ax.bar(ind - width/2,legit, width,label='legit')\n",
    "rects2 = ax.bar(ind + width/2, fraud, width,\n",
    "                label='Fraud')\n",
    "\n",
    "# Add some text for labels, title and custom x-axis tick labels, etc.\n",
    "ax.set_ylabel('Count of job posting')\n",
    "ax.set_title('Counts across various columns')\n",
    "ax.set_xticks(ind)\n",
    "ax.set_xticklabels(data.columns, rotation=90)\n",
    "ax.legend()"
   ]
  },
  {
   "cell_type": "code",
   "execution_count": 85,
   "metadata": {},
   "outputs": [],
   "source": [
    "# merge all description columns\n",
    "data['concat'] = data['company_profile'] + data['description'] + data['requirements']\n",
    "data = data[data['concat'].notnull()]"
   ]
  },
  {
   "cell_type": "markdown",
   "metadata": {},
   "source": [
    "Check number of job posting across industry\n"
   ]
  },
  {
   "cell_type": "code",
   "execution_count": 86,
   "metadata": {},
   "outputs": [
    {
     "data": {
      "text/plain": [
       "Text(0, 0.5, 'Count')"
      ]
     },
     "execution_count": 86,
     "metadata": {},
     "output_type": "execute_result"
    },
    {
     "data": {
      "image/png": "[encoded data removed]",
      "text/plain": [
       "<Figure size 1440x720 with 1 Axes>"
      ]
     },
     "metadata": {
      "needs_background": "light"
     },
     "output_type": "display_data"
    }
   ],
   "source": [
    "# check number of job posting across industry\n",
    "count_jobs = data.groupby([\"industry\"], as_index=False).agg({'title':'count'}).sort_values('title', ascending = False).head(20)\n",
    "\n",
    "# plot\n",
    "plt.rcParams[\"figure.figsize\"] = (20,10)\n",
    "\n",
    "# plt.bar(count_jobs.industry, count_jobs.title, color=\"Set1\")\n",
    "g = sns.barplot(\"industry\", \"title\", data=count_jobs, palette=\"Set1\")\n",
    "g.set_xticklabels(g.get_xticklabels(),rotation=90)\n",
    "g.set_title(\"Number of job posting across industry\", fontsize=20)\n",
    "g.set_xlabel(\"industry\", fontsize=15)\n",
    "g.set_ylabel(\"Count\", fontsize=15)"
   ]
  },
  {
   "cell_type": "markdown",
   "metadata": {},
   "source": [
    "### Frequency distribution plot"
   ]
  },
  {
   "cell_type": "markdown",
   "metadata": {},
   "source": [
    "#### Check if the lenght of the job posts varies for legit and fraud posts "
   ]
  },
  {
   "cell_type": "code",
   "execution_count": 87,
   "metadata": {},
   "outputs": [
    {
     "data": {
      "image/png": "[encoded data removed]",
      "text/plain": [
       "<Figure size 1440x720 with 1 Axes>"
      ]
     },
     "metadata": {
      "needs_background": "light"
     },
     "output_type": "display_data"
    }
   ],
   "source": [
    "data['body_len'] = data['concat'].apply(lambda x: len(x) - x.count(\" \"))\n",
    "\n",
    "bins = np.linspace(50, 15000, 100)\n",
    "\n",
    "pyplot.hist(data[data['fraudulent']=='f']['body_len']**1/2, bins,  alpha=0.5,normed=True, label='Legit')\n",
    "pyplot.hist(data[data['fraudulent']=='t']['body_len']**1/2, bins, alpha=0.5, normed=True, label='Fraud')\n",
    "pyplot.legend(loc='upper right')\n",
    "pyplot.title('Job posting length in legit and fraud ')\n",
    "pyplot.show()"
   ]
  },
  {
   "cell_type": "markdown",
   "metadata": {},
   "source": [
    "#### Check if the count of % punctuation of the job posts varies for legit and fraud posts "
   ]
  },
  {
   "cell_type": "code",
   "execution_count": 88,
   "metadata": {},
   "outputs": [
    {
     "data": {
      "text/plain": [
       "(2.0, 26.3)"
      ]
     },
     "execution_count": 88,
     "metadata": {},
     "output_type": "execute_result"
    }
   ],
   "source": [
    "def count_punct(text):\n",
    "    \"\"\"\n",
    "    This function calculates number of punctuation from posts \n",
    "    param:text: job posts\n",
    "    \n",
    "    Return: % count of punctuation\n",
    "    \"\"\"\n",
    "    count = sum([1 for char in text if char in string.punctuation])\n",
    "    return round(count/(len(text) - text.count(\" \")), 3)*100\n",
    "\n",
    "data['punct%'] = data['concat'].apply(lambda x: count_punct(x))\n",
    "\n",
    "# min and max % of punctuations \n",
    "data['punct%'].min(), data['punct%'].max()"
   ]
  },
  {
   "cell_type": "code",
   "execution_count": 89,
   "metadata": {},
   "outputs": [
    {
     "data": {
      "text/plain": [
       "<matplotlib.legend.Legend at 0x25f91ff2320>"
      ]
     },
     "execution_count": 89,
     "metadata": {},
     "output_type": "execute_result"
    },
    {
     "data": {
      "image/png": "[encoded data removed]",
      "text/plain": [
       "<Figure size 1440x720 with 1 Axes>"
      ]
     },
     "metadata": {
      "needs_background": "light"
     },
     "output_type": "display_data"
    }
   ],
   "source": [
    "bins = np.linspace(2, 26.3, 50)\n",
    "\n",
    "data['punct%'] = data['concat'].apply(lambda x: count_punct(x))\n",
    "pyplot.hist(data[data['fraudulent']=='f']['punct%']**1/2, bins,  alpha=0.5,normed=True, label='Legit')\n",
    "pyplot.hist(data[data['fraudulent']=='t']['punct%']**1/2, bins, alpha=0.5, normed=True, label='Fraud')\n",
    "pyplot.title('% Punctuation in legit and fraud ')\n",
    "pyplot.legend(loc='upper right')"
   ]
  },
  {
   "cell_type": "markdown",
   "metadata": {},
   "source": [
    "## Data Cleaning and preprocessing \n",
    "\n",
    "In this step the data is cleaned to remove stop words, punctuation, html tags and gibberish"
   ]
  },
  {
   "cell_type": "code",
   "execution_count": 90,
   "metadata": {},
   "outputs": [],
   "source": [
    "# create a contraction map dictionary \n",
    "contraction_mapping = {\"ain't\": \"is not\", \"aren't\": \"are not\",\"can't\": \"cannot\", \n",
    "                   \"can't've\": \"cannot have\", \"'cause\": \"because\", \"could've\": \"could have\", \n",
    "                   \"couldn't\": \"could not\", \"couldn't've\": \"could not have\",\"didn't\": \"did not\", \n",
    "                   \"doesn't\": \"does not\", \"don't\": \"do not\", \"hadn't\": \"had not\", \n",
    "                   \"hadn't've\": \"had not have\", \"hasn't\": \"has not\", \"haven't\": \"have not\", \n",
    "                   \"he'd\": \"he would\", \"he'd've\": \"he would have\", \"he'll\": \"he will\", \n",
    "                   \"he'll've\": \"he will have\", \"he's\": \"he is\", \"how'd\": \"how did\", \n",
    "                   \"how'd'y\": \"how do you\", \"how'll\": \"how will\", \"how's\": \"how is\", \n",
    "                   \"I'd\": \"I would\", \"I'd've\": \"I would have\", \"I'll\": \"I will\", \n",
    "                   \"I'll've\": \"I will have\",\"I'm\": \"I am\", \"I've\": \"I have\", \n",
    "                   \"i'd\": \"i would\", \"i'd've\": \"i would have\", \"i'll\": \"i will\", \n",
    "                   \"i'll've\": \"i will have\",\"i'm\": \"i am\", \"i've\": \"i have\", \n",
    "                   \"isn't\": \"is not\", \"it'd\": \"it would\", \"it'd've\": \"it would have\", \n",
    "                   \"it'll\": \"it will\", \"it'll've\": \"it will have\",\"it's\": \"it is\", \n",
    "                   \"let's\": \"let us\", \"ma'am\": \"madam\", \"mayn't\": \"may not\", \n",
    "                   \"might've\": \"might have\",\"mightn't\": \"might not\",\"mightn't've\": \"might not have\", \n",
    "                   \"must've\": \"must have\", \"mustn't\": \"must not\", \"mustn't've\": \"must not have\", \n",
    "                   \"needn't\": \"need not\", \"needn't've\": \"need not have\",\"o'clock\": \"of the clock\", \n",
    "                   \"oughtn't\": \"ought not\", \"oughtn't've\": \"ought not have\", \"shan't\": \"shall not\",\n",
    "                   \"sha'n't\": \"shall not\", \"shan't've\": \"shall not have\", \"she'd\": \"she would\", \n",
    "                   \"she'd've\": \"she would have\", \"she'll\": \"she will\", \"she'll've\": \"she will have\", \n",
    "                   \"she's\": \"she is\", \"should've\": \"should have\", \"shouldn't\": \"should not\", \n",
    "                   \"shouldn't've\": \"should not have\", \"so've\": \"so have\",\"so's\": \"so as\", \n",
    "                   \"this's\": \"this is\",\n",
    "                   \"that'd\": \"that would\", \"that'd've\": \"that would have\",\"that's\": \"that is\", \n",
    "                   \"there'd\": \"there would\", \"there'd've\": \"there would have\",\"there's\": \"there is\", \n",
    "                       \"here's\": \"here is\",\n",
    "                   \"they'd\": \"they would\", \"they'd've\": \"they would have\", \"they'll\": \"they will\", \n",
    "                   \"they'll've\": \"they will have\", \"they're\": \"they are\", \"they've\": \"they have\", \n",
    "                   \"to've\": \"to have\", \"wasn't\": \"was not\", \"we'd\": \"we would\", \n",
    "                   \"we'd've\": \"we would have\", \"we'll\": \"we will\", \"we'll've\": \"we will have\", \n",
    "                   \"we're\": \"we are\", \"we've\": \"we have\", \"weren't\": \"were not\", \n",
    "                   \"what'll\": \"what will\", \"what'll've\": \"what will have\", \"what're\": \"what are\", \n",
    "                   \"what's\": \"what is\", \"what've\": \"what have\", \"when's\": \"when is\", \n",
    "                   \"when've\": \"when have\", \"where'd\": \"where did\", \"where's\": \"where is\", \n",
    "                   \"where've\": \"where have\", \"who'll\": \"who will\", \"who'll've\": \"who will have\", \n",
    "                   \"who's\": \"who is\", \"who've\": \"who have\", \"why's\": \"why is\", \n",
    "                   \"why've\": \"why have\", \"will've\": \"will have\", \"won't\": \"will not\", \n",
    "                   \"won't've\": \"will not have\", \"would've\": \"would have\", \"wouldn't\": \"would not\", \n",
    "                   \"wouldn't've\": \"would not have\", \"y'all\": \"you all\", \"y'all'd\": \"you all would\",\n",
    "                   \"y'all'd've\": \"you all would have\",\"y'all're\": \"you all are\",\"y'all've\": \"you all have\",\n",
    "                   \"you'd\": \"you would\", \"you'd've\": \"you would have\", \"you'll\": \"you will\", \n",
    "                   \"you'll've\": \"you will have\", \"you're\": \"you are\", \"you've\": \"you have\" } "
   ]
  },
  {
   "cell_type": "code",
   "execution_count": 91,
   "metadata": {},
   "outputs": [],
   "source": [
    "def clean_text(text):\n",
    "    \"\"\"\n",
    "    This function remove the htmp tags and gibberish words from the data and performs stemming, function called from TD-IDF\n",
    "    \n",
    "    :param:text: job posting \n",
    "    \n",
    "    :return: tokens\n",
    "    \"\"\"\n",
    "    \n",
    "    tokens = []\n",
    "    try:\n",
    "        # remove html tags\n",
    "        # anything that starts with <, has a set of characters [a-z], starts with (^) < \n",
    "        # has one or more occurances (+) and having one of more repetition (?)\n",
    "        text = re.sub('<[^<]+?>', '', text)\n",
    "        \n",
    "        text = \"\".join([word for word in text if word not in string.punctuation and word not in ['li', 'amp', 'br', \"pb\", \"bp\", \"pp\", \"bb\"]])\n",
    "\n",
    "        tokens = re.split('\\W+', text)\n",
    "        \n",
    "        # perform steming on the words\n",
    "        stemmer = PorterStemmer()\n",
    "        tokens = [stemmer.stem(word) for word in tokens if word not in stopwords and word not in \"\"]\n",
    "\n",
    "    except:\n",
    "        pass\n",
    "    return tokens"
   ]
  },
  {
   "cell_type": "code",
   "execution_count": 92,
   "metadata": {},
   "outputs": [],
   "source": [
    "def spacy_cleaner(text):\n",
    "    \"\"\"\n",
    "    This function clean the sentences for email. punctuation, phone numbers and reconstructs the sentence back for sentence clustering\n",
    "    :param:text: job posts sentence\n",
    "    \n",
    "    :return: cleaned sentences\n",
    "\n",
    "    \"\"\"\n",
    "    # perfrom contraction mapping\n",
    "    apostrophe_handled = re.sub(\"’\", \"'\", text)\n",
    "\n",
    "    apostrophe_handled = apostrophe_handled.replace(\".\", \" \")\n",
    "    expanded = ' '.join([contraction_mapping[t] if t in contraction_mapping else t for t in apostrophe_handled.split(\" \")])\n",
    "    \n",
    "    # remove punctuations\n",
    "    exapnded = \"\".join([word for word in text if word not in string.punctuation])\n",
    "\n",
    "    parsed = nlp(expanded)\n",
    "    \n",
    "    final_tokens = []\n",
    "    # for every parsed word\n",
    "    for t in parsed:\n",
    "        # check if url, @ or trademark,remove from sentence if true\n",
    "        if t.is_punct or t.is_space or t.like_url or str(t).startswith('@') or str(t) =='®':\n",
    "            pass\n",
    "        # if the str contains url, replace with ''\n",
    "        elif str(t).__contains__('#url'):\n",
    "            return ''\n",
    "\n",
    "        else:\n",
    "            if t.lemma_ == '-PRON-':\n",
    "                final_tokens.append(str(t))\n",
    "            else:\n",
    "                #lemmatized the sentence\n",
    "                sc_removed = re.sub(\"[^a-zA-Z]\", '', str(t.lemma_))\n",
    "                \n",
    "                # remove gibberish from sentence\n",
    "                if sc_removed not in ['li', 'amp', 'br', \"pb\", \"bp\", \"bs\",\n",
    "                                      \"pp\", \"bb\", \"urlfafceadeaecaedbdfefaae\", \n",
    "                                      \"phoneaadcbcadbebadafed\", \"emaildfeedfcddfcabcdbbdcbfadc\", \n",
    "                                      \"emailbacfdcecbdabdecdbcadfbeaccdarren\", \"emaildfeedfcddfcabcdbbdcbfadc\"]:\n",
    "                    \n",
    "                    if len(sc_removed) > 1:\n",
    "                        final_tokens.append(sc_removed)\n",
    "    joined = ' '.join(final_tokens)\n",
    "    spell_corrected = re.sub(r'(.)\\1+', r'\\1\\1', joined)\n",
    "    return spell_corrected"
   ]
  },
  {
   "cell_type": "code",
   "execution_count": 93,
   "metadata": {
    "scrolled": true
   },
   "outputs": [
    {
     "data": {
      "text/html": [
       "<div>\n",
       "<style scoped>\n",
       "    .dataframe tbody tr th:only-of-type {\n",
       "        vertical-align: middle;\n",
       "    }\n",
       "\n",
       "    .dataframe tbody tr th {\n",
       "        vertical-align: top;\n",
       "    }\n",
       "\n",
       "    .dataframe thead th {\n",
       "        text-align: right;\n",
       "    }\n",
       "</style>\n",
       "<table border=\"1\" class=\"dataframe\">\n",
       "  <thead>\n",
       "    <tr style=\"text-align: right;\">\n",
       "      <th></th>\n",
       "      <th>title</th>\n",
       "      <th>location</th>\n",
       "      <th>department</th>\n",
       "      <th>salary_range</th>\n",
       "      <th>company_profile</th>\n",
       "      <th>description</th>\n",
       "      <th>requirements</th>\n",
       "      <th>benefits</th>\n",
       "      <th>telecommuting</th>\n",
       "      <th>has_company_logo</th>\n",
       "      <th>...</th>\n",
       "      <th>employment_type</th>\n",
       "      <th>required_experience</th>\n",
       "      <th>required_education</th>\n",
       "      <th>industry</th>\n",
       "      <th>function</th>\n",
       "      <th>fraudulent</th>\n",
       "      <th>in_balanced_dataset</th>\n",
       "      <th>concat</th>\n",
       "      <th>body_len</th>\n",
       "      <th>punct%</th>\n",
       "    </tr>\n",
       "  </thead>\n",
       "  <tbody>\n",
       "    <tr>\n",
       "      <th>0</th>\n",
       "      <td>Marketing Intern</td>\n",
       "      <td>US, NY, New York</td>\n",
       "      <td>Marketing</td>\n",
       "      <td>NaN</td>\n",
       "      <td>we're food52, and we've created a groundbreaking and award-winning cooking site. we support, con...</td>\n",
       "      <td>food52, a fast-growing, james beard award-winning online food community and crowd-sourced and cu...</td>\n",
       "      <td>experience with content management systems a major plus (any blogging counts!)familiar with the ...</td>\n",
       "      <td>nan</td>\n",
       "      <td>f</td>\n",
       "      <td>t</td>\n",
       "      <td>...</td>\n",
       "      <td>Other</td>\n",
       "      <td>Internship</td>\n",
       "      <td>NaN</td>\n",
       "      <td>NaN</td>\n",
       "      <td>Marketing</td>\n",
       "      <td>f</td>\n",
       "      <td>f</td>\n",
       "      <td>&lt;h3&gt;We're Food52, and we've created a groundbreaking and award-winning cooking site. We support,...</td>\n",
       "      <td>2530</td>\n",
       "      <td>7.9</td>\n",
       "    </tr>\n",
       "    <tr>\n",
       "      <th>1</th>\n",
       "      <td>Customer Service - Cloud Video Production</td>\n",
       "      <td>NZ, , Auckland</td>\n",
       "      <td>Success</td>\n",
       "      <td>NaN</td>\n",
       "      <td>90 seconds, the worlds cloud video production service.90 seconds is the worlds cloud video produ...</td>\n",
       "      <td>organised - focused - vibrant - awesome!do you have a passion for customer service? slick typing...</td>\n",
       "      <td>what we expect from you:your key responsibility will be to communicate with the client, 90 secon...</td>\n",
       "      <td>what you will get from usthrough being part of the 90 seconds team you will gain:experience work...</td>\n",
       "      <td>f</td>\n",
       "      <td>t</td>\n",
       "      <td>...</td>\n",
       "      <td>Full-time</td>\n",
       "      <td>Not Applicable</td>\n",
       "      <td>NaN</td>\n",
       "      <td>Marketing and Advertising</td>\n",
       "      <td>Customer Service</td>\n",
       "      <td>f</td>\n",
       "      <td>f</td>\n",
       "      <td>&lt;h3&gt;90 Seconds, the worlds Cloud Video Production Service.&lt;/h3&gt;\\r\\n&lt;p&gt;90 Seconds is the worlds C...</td>\n",
       "      <td>5214</td>\n",
       "      <td>8.7</td>\n",
       "    </tr>\n",
       "  </tbody>\n",
       "</table>\n",
       "<p>2 rows × 21 columns</p>\n",
       "</div>"
      ],
      "text/plain": [
       "                                       title          location department  \\\n",
       "0                           Marketing Intern  US, NY, New York  Marketing   \n",
       "1  Customer Service - Cloud Video Production    NZ, , Auckland    Success   \n",
       "\n",
       "  salary_range  \\\n",
       "0          NaN   \n",
       "1          NaN   \n",
       "\n",
       "                                                                                       company_profile  \\\n",
       "0  we're food52, and we've created a groundbreaking and award-winning cooking site. we support, con...   \n",
       "1  90 seconds, the worlds cloud video production service.90 seconds is the worlds cloud video produ...   \n",
       "\n",
       "                                                                                           description  \\\n",
       "0  food52, a fast-growing, james beard award-winning online food community and crowd-sourced and cu...   \n",
       "1  organised - focused - vibrant - awesome!do you have a passion for customer service? slick typing...   \n",
       "\n",
       "                                                                                          requirements  \\\n",
       "0  experience with content management systems a major plus (any blogging counts!)familiar with the ...   \n",
       "1  what we expect from you:your key responsibility will be to communicate with the client, 90 secon...   \n",
       "\n",
       "                                                                                              benefits  \\\n",
       "0                                                                                                  nan   \n",
       "1  what you will get from usthrough being part of the 90 seconds team you will gain:experience work...   \n",
       "\n",
       "  telecommuting has_company_logo  ... employment_type required_experience  \\\n",
       "0             f                t  ...           Other          Internship   \n",
       "1             f                t  ...       Full-time      Not Applicable   \n",
       "\n",
       "  required_education                   industry          function fraudulent  \\\n",
       "0                NaN                        NaN         Marketing          f   \n",
       "1                NaN  Marketing and Advertising  Customer Service          f   \n",
       "\n",
       "  in_balanced_dataset  \\\n",
       "0                   f   \n",
       "1                   f   \n",
       "\n",
       "                                                                                                concat  \\\n",
       "0  <h3>We're Food52, and we've created a groundbreaking and award-winning cooking site. We support,...   \n",
       "1  <h3>90 Seconds, the worlds Cloud Video Production Service.</h3>\\r\\n<p>90 Seconds is the worlds C...   \n",
       "\n",
       "  body_len  punct%  \n",
       "0     2530     7.9  \n",
       "1     5214     8.7  \n",
       "\n",
       "[2 rows x 21 columns]"
      ]
     },
     "execution_count": 93,
     "metadata": {},
     "output_type": "execute_result"
    }
   ],
   "source": [
    "def remove_html_tags(text):\n",
    "    \"\"\"\n",
    "    This function removes tags from the text\n",
    "    \n",
    "    :param: text: Job posts\n",
    "    :return: text without html\n",
    "    \"\"\"\n",
    "    return re.sub('<[^<]+?>', '', str(text))\n",
    "\n",
    "\n",
    "data.company_profile=data.company_profile.apply(remove_html_tags).str.replace('\\r\\n', '').str.lower()\n",
    "data.description=data.description.apply(remove_html_tags).str.replace('\\r\\n', '').str.lower()\n",
    "data.requirements=data.requirements.apply(remove_html_tags).str.replace('\\r\\n', '').str.lower()\n",
    "data.benefits=data.benefits.apply(remove_html_tags).str.replace('\\r\\n', '').str.lower()\n",
    "data.head(2)"
   ]
  },
  {
   "cell_type": "markdown",
   "metadata": {},
   "source": [
    "### Sentence Clustering"
   ]
  },
  {
   "cell_type": "markdown",
   "metadata": {},
   "source": [
    "#### Create two different lists with total sentences, legit and fraud across requirements, company profile, description and benefits column"
   ]
  },
  {
   "cell_type": "code",
   "execution_count": 94,
   "metadata": {},
   "outputs": [],
   "source": [
    "# make a list of the sentences \n",
    "sentences = []\n",
    "fraud_sent = []\n",
    "legit_sent = []\n",
    "sent = {}\n",
    "column_list = ['requirements', 'company_profile', 'description', 'benefits'] \n",
    "#loop across column lists\n",
    "for column in column_list:\n",
    "    sub = data[(data[column].notnull()) & (data['industry'] =='Oil & Energy')].reset_index(drop=True)\n",
    "    # loop across all the posts\n",
    "    for x in range(0,len(sub)):\n",
    "        analyzed_doc = model(sub[column][x])\n",
    "        \n",
    "        # loop across every sentence within the post\n",
    "        for sentence in analyzed_doc.sents:\n",
    "            cleaned = spacy_cleaner(sentence.text.lower())\n",
    "            # remove short and null sentences (short sentences are usually just words)\n",
    "            if (cleaned == \"\") or (len(cleaned) < 15):\n",
    "                pass\n",
    "            else:\n",
    "                # append in the list of fraud or legit sentences\n",
    "                if sub['fraudulent'][x] == 'f':\n",
    "                    legit_sent.append(cleaned)\n",
    "                else:\n",
    "                    fraud_sent.append(cleaned)\n",
    "\n",
    "sentences = fraud_sent + legit_sent"
   ]
  },
  {
   "cell_type": "code",
   "execution_count": 96,
   "metadata": {},
   "outputs": [
    {
     "name": "stdout",
     "output_type": "stream",
     "text": [
      "Fit 2 clusters\n",
      "Fit 4 clusters\n",
      "Fit 6 clusters\n",
      "Fit 8 clusters\n",
      "Fit 10 clusters\n",
      "Fit 12 clusters\n",
      "Fit 14 clusters\n",
      "Fit 16 clusters\n",
      "Fit 18 clusters\n",
      "Fit 20 clusters\n"
     ]
    },
    {
     "data": {
      "image/png": "[encoded data removed]",
      "text/plain": [
       "<Figure size 1440x720 with 1 Axes>"
      ]
     },
     "metadata": {
      "needs_background": "light"
     },
     "output_type": "display_data"
    }
   ],
   "source": [
    "from sklearn.cluster import MiniBatchKMeans\n",
    "\n",
    "def find_optimal_clusters(data, max_k):\n",
    "    \"\"\"\n",
    "    This func plots SSE for the n number of clusters \n",
    "    \n",
    "    :param: data : sentences \n",
    "    :max_k: number of clusters to iter over\n",
    "    \n",
    "    :return: \n",
    "    \"\"\"\n",
    "    tfidf_vectorizer = TfidfVectorizer(tokenizer=clean_text,\n",
    "                                    stop_words=stopwords,\n",
    "                                    max_df=0.9,\n",
    "                                    max_features = 8000,\n",
    "\n",
    "                                    lowercase=True)\n",
    "    #builds a tf-idf matrix for the sentences\n",
    "    tfidf_matrix = tfidf_vectorizer.fit_transform(data)\n",
    "    words = tfidf_vectorizer.get_feature_names()\n",
    "    \n",
    "    iters = range(2, max_k+1, 2)\n",
    "    \n",
    "    sse = []\n",
    "    for k in iters:\n",
    "        sse.append(MiniBatchKMeans(n_clusters=k, init_size=1024, batch_size=2048, random_state=20).fit(tfidf_matrix).inertia_)\n",
    "        print('Fit {} clusters'.format(k))\n",
    "        \n",
    "    f, ax = plt.subplots(1, 1)\n",
    "    ax.plot(iters, sse, marker='o')\n",
    "    ax.set_xlabel('Cluster Centers')\n",
    "    ax.set_xticks(iters)\n",
    "    ax.set_xticklabels(iters)\n",
    "    ax.set_ylabel('SSE')\n",
    "    ax.set_title('SSE by Cluster Center Plot')\n",
    "    \n",
    "find_optimal_clusters(sentences, 20)"
   ]
  },
  {
   "cell_type": "code",
   "execution_count": 97,
   "metadata": {},
   "outputs": [],
   "source": [
    "# remove the short sentences \n",
    "sentences = [sent for sent in sentences if sent not in ['', 'li'] if len(sent) > 20]"
   ]
  },
  {
   "cell_type": "code",
   "execution_count": 101,
   "metadata": {},
   "outputs": [
    {
     "name": "stdout",
     "output_type": "stream",
     "text": [
      "0 : recruit, middl, east, consult, vp, emaildfeedfcddfcabcdbbdcbfadc, agenc, becom, array, special\n",
      "1 : free, tax, year, compani, corpor, sinc, enlarg, london, colleagu, click\n",
      "2 : solut, ga, oil, industri, provid, servic, workforc, across, special, focu\n",
      "3 : go, inform, peopl, busi, valu, individu, prepar, take, look, posit\n",
      "4 : step, employ, remain, everi, final, way, involv, sign, throughout, contact\n",
      "5 : experi, year, minimum, requir, engin, degre, prefer, militari, orb, educ\n",
      "6 : opportun, energi, advanc, one, job, compani, grow, appli, join, candid\n",
      "7 : packag, compens, candid, benefit, avail, referr, refin, strong, resourc, bonu\n",
      "8 : thank, wish, mani, cooper, good, ford, formerli, former, format, formalis\n",
      "9 : mission, success, valor, servic, ford, formerli, former, format, formalis, formal\n",
      "10 : project, work, develop, manag, oper, requir, team, engin, perform, equip\n",
      "11 : interview, phone, skype, attend, onlypleas, face, appli, locat, email, consid\n",
      "12 : discoveri, bring, recoveri, maxim, petroleum, technolog, field, design, product, engin\n",
      "13 : veteran, fine, america, privat, sector, opportun, employ, servic, concert, ampl\n",
      "14 : approxim, countri, peopl, employ, yr, formul, formthank, formerli, former, format\n",
      "15 : abil, skill, commun, work, travel, write, excel, strong, knowledg, requir\n"
     ]
    }
   ],
   "source": [
    "def cluster_sentences(sentences, nb_of_clusters=5):\n",
    "    \"\"\"\n",
    "    This function performs word vectorization and kmeans clustering\n",
    "    \n",
    "    :param:sentences: list of sentences\n",
    "    :nb_of_clusters: total number of clusters\n",
    "    :return: clusters\n",
    "    \"\"\"\n",
    "    # perform sentence tokenization\n",
    "    tfidf_vectorizer = TfidfVectorizer(tokenizer=clean_text,\n",
    "                                    stop_words=stopwords,\n",
    "                                    max_df=0.9,\n",
    "#                                     min_df=0.1,\n",
    "#                                        ngram_range = (2,2),\n",
    "                                    max_features = 8000,\n",
    "\n",
    "                                    lowercase=True)\n",
    "    #builds a tf-idf matrix for the sentences\n",
    "    tfidf_matrix = tfidf_vectorizer.fit_transform(sentences)\n",
    "    \n",
    "    # get feature names\n",
    "    words = tfidf_vectorizer.get_feature_names()\n",
    "    \n",
    "    # performs kmeans clustering\n",
    "    kmeans = KMeans(n_clusters=nb_of_clusters)\n",
    "    kmeans.fit(tfidf_matrix)\n",
    "    clusters = collections.defaultdict(list)\n",
    "    for i, label in enumerate(kmeans.labels_):\n",
    "            clusters[label].append(i)\n",
    "    common_words = kmeans.cluster_centers_.argsort()[:,-1:-11:-1]\n",
    "    \n",
    "    for num, centroid in enumerate(common_words):\n",
    "        print(str(num) + ' : ' + ', '.join(words[word] for word in centroid))\n",
    "    return dict(clusters)\n",
    "\n",
    "num_of_clusters = 16\n",
    "clusters = cluster_sentences(sentences, nb_of_clusters=num_of_clusters)\n",
    "counts = {f'cluster_{i}' : [[\"legit\", 0] , [\"fraud\",0]] for i in range(num_of_clusters)}\n"
   ]
  },
  {
   "cell_type": "code",
   "execution_count": 102,
   "metadata": {},
   "outputs": [],
   "source": [
    "# Calculate the legit and fraud sentences within the cluster\n",
    "for cluster in range(0,num_of_clusters):\n",
    "\n",
    "    for i,sentence in enumerate(clusters[cluster]):\n",
    "        if (sentences[sentence] == \"\") or (len(sentences[sentence]) < 10):\n",
    "            pass\n",
    "        else:\n",
    "            \n",
    "            if sentences[sentence] in legit_sent:\n",
    "\n",
    "                counts[f'cluster_{cluster}'][0][1] +=  1\n",
    "            else:\n",
    "\n",
    "                counts[f'cluster_{cluster}'][1][1] += 1"
   ]
  },
  {
   "cell_type": "markdown",
   "metadata": {},
   "source": [
    "Count of legit and fraud sentences"
   ]
  },
  {
   "cell_type": "code",
   "execution_count": 103,
   "metadata": {},
   "outputs": [
    {
     "data": {
      "text/plain": [
       "{'cluster_0': [['legit', 72], ['fraud', 23]],\n",
       " 'cluster_1': [['legit', 120], ['fraud', 72]],\n",
       " 'cluster_2': [['legit', 107], ['fraud', 68]],\n",
       " 'cluster_3': [['legit', 0], ['fraud', 54]],\n",
       " 'cluster_4': [['legit', 106], ['fraud', 0]],\n",
       " 'cluster_5': [['legit', 232], ['fraud', 56]],\n",
       " 'cluster_6': [['legit', 81], ['fraud', 44]],\n",
       " 'cluster_7': [['legit', 74], ['fraud', 87]],\n",
       " 'cluster_8': [['legit', 29], ['fraud', 18]],\n",
       " 'cluster_9': [['legit', 107], ['fraud', 0]],\n",
       " 'cluster_10': [['legit', 1155], ['fraud', 887]],\n",
       " 'cluster_11': [['legit', 100], ['fraud', 18]],\n",
       " 'cluster_12': [['legit', 0], ['fraud', 63]],\n",
       " 'cluster_13': [['legit', 107], ['fraud', 0]],\n",
       " 'cluster_14': [['legit', 0], ['fraud', 63]],\n",
       " 'cluster_15': [['legit', 96], ['fraud', 69]]}"
      ]
     },
     "execution_count": 103,
     "metadata": {},
     "output_type": "execute_result"
    }
   ],
   "source": [
    "counts"
   ]
  }
 ],
 "metadata": {
  "kernelspec": {
   "display_name": "Python 3",
   "language": "python",
   "name": "python3"
  },
  "language_info": {
   "codemirror_mode": {
    "name": "ipython",
    "version": 3
   },
   "file_extension": ".py",
   "mimetype": "text/x-python",
   "name": "python",
   "nbconvert_exporter": "python",
   "pygments_lexer": "ipython3",
   "version": "3.7.3"
  }
 },
 "nbformat": 4,
 "nbformat_minor": 2
}
